{
 "cells": [
  {
   "cell_type": "code",
   "execution_count": 2,
   "metadata": {},
   "outputs": [
    {
     "name": "stdout",
     "output_type": "stream",
     "text": [
      "Mise à jour des tables composants et logs terminée.\n"
     ]
    }
   ],
   "source": [
    "import pandas as pd\n",
    "import requests\n",
    "from datetime import datetime\n",
    "\n",
    "today = datetime.today().strftime('%Y-%m-%d')                           #générer date du jour avce le bon format date\n",
    "url_degradation = f'https://sc-e.fr/docs/degradations_{today}.csv'      #générer l'url du csv avec la date du jour\n",
    "url_logs_vols = f'https://sc-e.fr/docs/logs_vols_{today}.csv'           #idem avec logs_vols\n",
    "\n",
    "\n",
    "file_path_degradations = 'degradations_historique.csv'                #définir les chemins des fichiers existants pour enregistrer les df concaténés\n",
    "file_path_logs_vols = 'logs_vols_historique.csv'\n",
    "file_path_composants = 'composants_MAJ.csv'\n",
    "file_path_aeronefs = 'aeronefs_MAJ.csv'\n",
    "\n",
    "\n",
    "df_degradations = pd.read_csv(file_path_degradations)               #charger les df existants depuis des fichiers csv\n",
    "df_logs_vols = pd.read_csv(file_path_logs_vols)\n",
    "df_composants = pd.read_csv(file_path_composants)\n",
    "df_aeronefs = pd.read_csv(file_path_aeronefs)\n",
    "\n",
    "#Création d'une focntion pour récupérer le csv via l'url\n",
    "def load_csv_from_url(url):\n",
    "    try:\n",
    "        response = requests.get(url)\n",
    "        response.raise_for_status()\n",
    "        return pd.read_csv(url)\n",
    "    except pd.errors.EmptyDataError:\n",
    "        print(f\"Le fichier CSV {url} est vide ou n'existe pas.\")\n",
    "    except requests.exceptions.RequestException as e:\n",
    "        print(f\"Erreur lors de la récupération du fichier {url} : {e}\")\n",
    "    return pd.DataFrame()\n",
    "\n",
    "#A partir de la fonction, récuperer les fichiers à jour degradations et logs_vols\n",
    "df_degradations_new = load_csv_from_url(url_degradation)\n",
    "df_logs_vols_new = load_csv_from_url(url_logs_vols)\n",
    "\n",
    "#On concatène les fichier récupérés avec le fichier déjà existant\n",
    "df_degradations_concat = pd.concat([df_degradations, df_degradations_new], ignore_index=True)\n",
    "df_logs_vols_concat = pd.concat([df_logs_vols, df_logs_vols_new], ignore_index=True)\n",
    "\n",
    "#On supprime les éventuelles lignes en doublons (dans le cas où on charge deux fois un fichier)\n",
    "df_degradations_concat.drop_duplicates(inplace=True)\n",
    "df_logs_vols_concat.drop_duplicates(inplace=True)\n",
    "\n",
    "#MAJ de la table composants, colonne taux_usure_actuel en reprenant les info de la colonne usure_nouvelle\n",
    "for index, row in df_degradations_new.iterrows():\n",
    "    compo_concerned = row['compo_concerned']\n",
    "    usure_nouvelle = row['usure_nouvelle']\n",
    "    df_composants.loc[df_composants['ref_compo'] == compo_concerned, 'taux_usure_actuel'] = usure_nouvelle\n",
    "\n",
    "#MAJ de la table aeronefs, avec ajout d'une colonne état voyant \n",
    "for index, row in df_logs_vols_new.iterrows():\n",
    "    aero_linked = row['aero_linked']\n",
    "    etat_voyant = row['etat_voyant']\n",
    "    df_aeronefs.loc[df_aeronefs['ref_aero'] == aero_linked, 'etat_voyant'] = etat_voyant\n",
    "\n",
    "df_aeronefs['etat_voyant'] = df_aeronefs['etat_voyant'].fillna(0).astype(int)\n",
    "\n",
    "#Enregistrer les df modifiés dans les fichiers définis au début\n",
    "df_composants.to_csv(file_path_composants, index=False)\n",
    "df_degradations_concat.to_csv(file_path_degradations, index=False)\n",
    "df_logs_vols_concat.to_csv(file_path_logs_vols, index=False)\n",
    "df_aeronefs.to_csv(file_path_aeronefs, index=False)\n",
    "\n",
    "print(\"Mise à jour des tables composants et logs terminée.\")\n"
   ]
  }
 ],
 "metadata": {
  "kernelspec": {
   "display_name": "base",
   "language": "python",
   "name": "python3"
  },
  "language_info": {
   "codemirror_mode": {
    "name": "ipython",
    "version": 3
   },
   "file_extension": ".py",
   "mimetype": "text/x-python",
   "name": "python",
   "nbconvert_exporter": "python",
   "pygments_lexer": "ipython3",
   "version": "3.11.7"
  }
 },
 "nbformat": 4,
 "nbformat_minor": 2
}
